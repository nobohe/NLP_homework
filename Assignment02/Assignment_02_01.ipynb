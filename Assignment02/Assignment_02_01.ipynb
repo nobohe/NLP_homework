{
 "cells": [
  {
   "cell_type": "code",
   "execution_count": 1,
   "metadata": {},
   "outputs": [],
   "source": [
    "from sklearn.datasets import load_boston\n",
    "import matplotlib.pyplot as plt\n",
    "import numpy as np  "
   ]
  },
  {
   "cell_type": "code",
   "execution_count": 2,
   "metadata": {},
   "outputs": [],
   "source": [
    "data = load_boston()\n",
    "X, y = data['data'], data['target']"
   ]
  },
  {
   "cell_type": "code",
   "execution_count": 3,
   "metadata": {},
   "outputs": [
    {
     "data": {
      "text/plain": [
       "array([2.7310e-02, 0.0000e+00, 7.0700e+00, 0.0000e+00, 4.6900e-01,\n",
       "       6.4210e+00, 7.8900e+01, 4.9671e+00, 2.0000e+00, 2.4200e+02,\n",
       "       1.7800e+01, 3.9690e+02, 9.1400e+00])"
      ]
     },
     "execution_count": 3,
     "metadata": {},
     "output_type": "execute_result"
    }
   ],
   "source": [
    "X[1]  #X为二维数组"
   ]
  },
  {
   "cell_type": "code",
   "execution_count": 4,
   "metadata": {},
   "outputs": [],
   "source": [
    "x = np.array([[1,2,3],[5,6,7],[8,9,10]]) \n",
    "# 在list中的数据类型保存的是数据的存放的地址，\n",
    "# 简单的说就是指针，并非数据，例如list1=[1,2,3,'a']需要4个指针和四个数据，增加了存储和消耗cpu。\n",
    "# 一个numpy array 是内存中一个连续块，并且array里的元素都是同一类（例如整数）。\n",
    "# 所以一旦确定了一个array，它的内存就确定了，那么每个元素（整数）的内存大小都确定了（4 bytes）。"
   ]
  },
  {
   "cell_type": "code",
   "execution_count": 5,
   "metadata": {},
   "outputs": [
    {
     "data": {
      "text/plain": [
       "506"
      ]
     },
     "execution_count": 5,
     "metadata": {},
     "output_type": "execute_result"
    }
   ],
   "source": [
    "len(X[:,0])  # X所有行的第0个元素"
   ]
  },
  {
   "cell_type": "code",
   "execution_count": 6,
   "metadata": {},
   "outputs": [
    {
     "data": {
      "text/plain": [
       "506"
      ]
     },
     "execution_count": 6,
     "metadata": {},
     "output_type": "execute_result"
    }
   ],
   "source": [
    "len(y)"
   ]
  },
  {
   "cell_type": "code",
   "execution_count": 7,
   "metadata": {},
   "outputs": [],
   "source": [
    "%matplotlib inline"
   ]
  },
  {
   "cell_type": "code",
   "execution_count": 8,
   "metadata": {},
   "outputs": [],
   "source": [
    "def draw_rm_and_price():\n",
    "    plt.scatter(X[:, 5], y)"
   ]
  },
  {
   "cell_type": "code",
   "execution_count": 9,
   "metadata": {},
   "outputs": [
    {
     "data": {
      "image/png": "[encoded data removed]",
      "text/plain": [
       "<Figure size 432x288 with 1 Axes>"
      ]
     },
     "metadata": {
      "needs_background": "light"
     },
     "output_type": "display_data"
    }
   ],
   "source": [
    "draw_rm_and_price()"
   ]
  },
  {
   "cell_type": "code",
   "execution_count": 10,
   "metadata": {},
   "outputs": [],
   "source": [
    "import random"
   ]
  },
  {
   "cell_type": "code",
   "execution_count": 11,
   "metadata": {},
   "outputs": [],
   "source": [
    "def price(rm, k, b):\n",
    "    \"\"\"f(x) = k * x + b\"\"\"\n",
    "    return k * rm + b"
   ]
  },
  {
   "cell_type": "code",
   "execution_count": 12,
   "metadata": {
    "scrolled": false
   },
   "outputs": [
    {
     "data": {
      "text/plain": [
       "<matplotlib.collections.PathCollection at 0x1a1ef32198>"
      ]
     },
     "execution_count": 12,
     "metadata": {},
     "output_type": "execute_result"
    },
    {
     "data": {
      "image/png": "[encoded data removed]",
      "text/plain": [
       "<Figure size 432x288 with 1 Axes>"
      ]
     },
     "metadata": {
      "needs_background": "light"
     },
     "output_type": "display_data"
    }
   ],
   "source": [
    "X_rm = X[:, 5]\n",
    "k = random.randint(-100, 100)\n",
    "b = random.randint(-100, 100)\n",
    "price_by_random_k_and_b = [price(r, k, b) for r in X_rm]\n",
    "\n",
    "draw_rm_and_price()\n",
    "plt.scatter(X_rm, price_by_random_k_and_b)"
   ]
  },
  {
   "cell_type": "code",
   "execution_count": 13,
   "metadata": {},
   "outputs": [],
   "source": [
    "def loss(y, y_hat): # to evaluate the performance \n",
    "    return sum(abs(y_i - y_hat_i) for y_i, y_hat_i in zip(list(y), list(y_hat))) / len(list(y))"
   ]
  },
  {
   "cell_type": "code",
   "execution_count": 14,
   "metadata": {},
   "outputs": [
    {
     "name": "stdout",
     "output_type": "stream",
     "text": [
      "When time is : 0, get best_k: 22.10386829495284 best_b: -63.34667541994722, and the loss is: 53.10119639800099\n",
      "When time is : 1, get best_k: 22.003868294952838 best_b: -63.44667541994722, and the loss is: 52.37881754424605\n",
      "When time is : 2, get best_k: 21.903868294952836 best_b: -63.54667541994722, and the loss is: 51.65643869049111\n",
      "When time is : 3, get best_k: 21.803868294952835 best_b: -63.64667541994722, and the loss is: 50.93405983673617\n",
      "When time is : 4, get best_k: 21.703868294952834 best_b: -63.74667541994722, and the loss is: 50.21168098298119\n",
      "When time is : 5, get best_k: 21.603868294952832 best_b: -63.846675419947225, and the loss is: 49.48930212922628\n",
      "When time is : 6, get best_k: 21.50386829495283 best_b: -63.946675419947226, and the loss is: 48.766923275471285\n",
      "When time is : 7, get best_k: 21.40386829495283 best_b: -64.04667541994722, and the loss is: 48.04454442171632\n",
      "When time is : 8, get best_k: 21.303868294952828 best_b: -64.14667541994721, and the loss is: 47.32216556796145\n",
      "When time is : 9, get best_k: 21.203868294952827 best_b: -64.24667541994721, and the loss is: 46.59978671420647\n",
      "When time is : 10, get best_k: 21.103868294952825 best_b: -64.3466754199472, and the loss is: 45.877407860451534\n",
      "When time is : 11, get best_k: 21.003868294952824 best_b: -64.4466754199472, and the loss is: 45.155029006696566\n",
      "When time is : 12, get best_k: 20.903868294952822 best_b: -64.54667541994719, and the loss is: 44.43265015294159\n",
      "When time is : 13, get best_k: 20.80386829495282 best_b: -64.64667541994719, and the loss is: 43.710271299186715\n",
      "When time is : 14, get best_k: 20.70386829495282 best_b: -64.74667541994718, and the loss is: 42.987892445431754\n",
      "When time is : 15, get best_k: 20.603868294952818 best_b: -64.84667541994718, and the loss is: 42.26551359167674\n",
      "When time is : 16, get best_k: 20.503868294952817 best_b: -64.94667541994717, and the loss is: 41.5431347379218\n",
      "When time is : 17, get best_k: 20.403868294952815 best_b: -65.04667541994716, and the loss is: 40.820755884166886\n",
      "When time is : 18, get best_k: 20.303868294952814 best_b: -65.14667541994716, and the loss is: 40.09837703041197\n",
      "When time is : 19, get best_k: 20.203868294952812 best_b: -65.24667541994715, and the loss is: 39.375998176657056\n",
      "When time is : 20, get best_k: 20.10386829495281 best_b: -65.34667541994715, and the loss is: 38.653619322902095\n",
      "When time is : 21, get best_k: 20.00386829495281 best_b: -65.44667541994714, and the loss is: 37.931240469147156\n",
      "When time is : 22, get best_k: 19.903868294952808 best_b: -65.54667541994714, and the loss is: 37.20886161539221\n",
      "When time is : 23, get best_k: 19.803868294952807 best_b: -65.64667541994713, and the loss is: 36.48648276163726\n",
      "When time is : 24, get best_k: 19.703868294952805 best_b: -65.74667541994712, and the loss is: 35.7641039078823\n",
      "When time is : 25, get best_k: 19.603868294952804 best_b: -65.84667541994712, and the loss is: 35.04438888490641\n",
      "When time is : 26, get best_k: 19.503868294952802 best_b: -65.94667541994711, and the loss is: 34.324727422455815\n",
      "When time is : 27, get best_k: 19.4038682949528 best_b: -66.0466754199471, and the loss is: 33.6050659600052\n",
      "When time is : 28, get best_k: 19.3038682949528 best_b: -66.1466754199471, and the loss is: 32.88567038061957\n",
      "When time is : 29, get best_k: 19.203868294952798 best_b: -66.2466754199471, and the loss is: 32.16803974820849\n",
      "When time is : 30, get best_k: 19.103868294952797 best_b: -66.34667541994709, and the loss is: 31.450409115797406\n",
      "When time is : 31, get best_k: 19.003868294952795 best_b: -66.44667541994708, and the loss is: 30.732778483386358\n",
      "When time is : 32, get best_k: 18.903868294952794 best_b: -66.54667541994708, and the loss is: 30.016027172775413\n",
      "When time is : 33, get best_k: 18.803868294952792 best_b: -66.64667541994707, and the loss is: 29.300427370403877\n",
      "When time is : 34, get best_k: 18.70386829495279 best_b: -66.74667541994707, and the loss is: 28.58673835893557\n",
      "When time is : 35, get best_k: 18.60386829495279 best_b: -66.84667541994706, and the loss is: 27.87399073047706\n",
      "When time is : 36, get best_k: 18.503868294952788 best_b: -66.94667541994706, and the loss is: 27.161243102018574\n",
      "When time is : 37, get best_k: 18.403868294952787 best_b: -67.04667541994705, and the loss is: 26.44849547356006\n",
      "When time is : 38, get best_k: 18.303868294952785 best_b: -67.14667541994704, and the loss is: 25.737077382456906\n",
      "When time is : 39, get best_k: 18.203868294952784 best_b: -67.24667541994704, and the loss is: 25.026554259927288\n",
      "When time is : 40, get best_k: 18.103868294952782 best_b: -67.34667541994703, and the loss is: 24.31603113739765\n",
      "When time is : 41, get best_k: 18.00386829495278 best_b: -67.44667541994703, and the loss is: 23.605508014867947\n",
      "When time is : 42, get best_k: 17.90386829495278 best_b: -67.54667541994702, and the loss is: 22.89731602701064\n",
      "When time is : 43, get best_k: 17.80386829495278 best_b: -67.64667541994702, and the loss is: 22.189149821477056\n",
      "When time is : 44, get best_k: 17.703868294952777 best_b: -67.74667541994701, and the loss is: 21.480983615943437\n",
      "When time is : 45, get best_k: 17.603868294952775 best_b: -67.846675419947, and the loss is: 20.773608017543346\n",
      "When time is : 46, get best_k: 17.503868294952774 best_b: -67.946675419947, and the loss is: 20.069623941288796\n",
      "When time is : 47, get best_k: 17.403868294952773 best_b: -68.046675419947, and the loss is: 19.36661623377888\n",
      "When time is : 48, get best_k: 17.30386829495277 best_b: -68.14667541994699, and the loss is: 18.663608526269012\n",
      "When time is : 49, get best_k: 17.20386829495277 best_b: -68.24667541994698, and the loss is: 17.960600818759122\n",
      "When time is : 50, get best_k: 17.10386829495277 best_b: -68.34667541994698, and the loss is: 17.258890273390946\n",
      "When time is : 51, get best_k: 17.003868294952767 best_b: -68.44667541994697, and the loss is: 16.55966694858232\n",
      "When time is : 52, get best_k: 16.903868294952765 best_b: -68.54667541994696, and the loss is: 15.869415826036889\n",
      "When time is : 53, get best_k: 16.803868294952764 best_b: -68.64667541994696, and the loss is: 15.186438763690951\n",
      "When time is : 54, get best_k: 16.703868294952763 best_b: -68.74667541994695, and the loss is: 14.508778416341924\n",
      "When time is : 55, get best_k: 16.60386829495276 best_b: -68.84667541994695, and the loss is: 13.838373678462274\n",
      "When time is : 56, get best_k: 16.50386829495276 best_b: -68.94667541994694, and the loss is: 13.173454967345746\n",
      "When time is : 57, get best_k: 16.40386829495276 best_b: -69.04667541994694, and the loss is: 12.518394585266591\n",
      "When time is : 58, get best_k: 16.303868294952757 best_b: -69.14667541994693, and the loss is: 11.870723008810877\n",
      "When time is : 59, get best_k: 16.203868294952755 best_b: -69.24667541994692, and the loss is: 11.228566053586146\n",
      "When time is : 60, get best_k: 16.103868294952754 best_b: -69.34667541994692, and the loss is: 10.58803937374425\n",
      "When time is : 61, get best_k: 16.003868294952753 best_b: -69.44667541994691, and the loss is: 9.949784922365197\n",
      "When time is : 62, get best_k: 15.903868294952753 best_b: -69.54667541994691, and the loss is: 9.32018138492678\n",
      "When time is : 63, get best_k: 15.803868294952753 best_b: -69.6466754199469, and the loss is: 8.705999346563285\n",
      "When time is : 64, get best_k: 15.703868294952754 best_b: -69.7466754199469, and the loss is: 8.108157352418425\n",
      "When time is : 65, get best_k: 15.603868294952754 best_b: -69.84667541994689, and the loss is: 7.535087529890484\n",
      "When time is : 66, get best_k: 15.503868294952754 best_b: -69.94667541994689, and the loss is: 7.002991844772738\n",
      "When time is : 67, get best_k: 15.403868294952755 best_b: -70.04667541994688, and the loss is: 6.519749574909407\n",
      "When time is : 68, get best_k: 15.303868294952755 best_b: -70.14667541994687, and the loss is: 6.1090584437421205\n",
      "When time is : 69, get best_k: 15.203868294952755 best_b: -70.24667541994687, and the loss is: 5.764965749102924\n",
      "When time is : 70, get best_k: 15.103868294952756 best_b: -70.34667541994686, and the loss is: 5.4956134765162235\n",
      "When time is : 71, get best_k: 15.003868294952756 best_b: -70.44667541994686, and the loss is: 5.3085128355824525\n",
      "When time is : 72, get best_k: 14.903868294952757 best_b: -70.54667541994685, and the loss is: 5.2002823267841265\n",
      "When time is : 73, get best_k: 14.803868294952757 best_b: -70.64667541994685, and the loss is: 5.192469942433721\n"
     ]
    }
   ],
   "source": [
    "trying_times = 20000\n",
    "\n",
    "min_loss = float('inf')\n",
    "\n",
    "best_k = random.random() * 200 - 100\n",
    "best_b = random.random() * 200 - 100\n",
    "\n",
    "direction = [\n",
    "    (+1, -1),  # first element: k's change direction, second element: b's change direction\n",
    "    (+1, +1), \n",
    "    (-1, -1), \n",
    "    (-1, +1),\n",
    "]\n",
    "\n",
    "next_direction = random.choice(direction)\n",
    "\n",
    "scalar = 0.1\n",
    "\n",
    "for i in range(trying_times):\n",
    "    \n",
    "    k_direction, b_direction = next_direction\n",
    "    \n",
    "    current_k, current_b = best_k + k_direction * scalar, best_b + b_direction * scalar\n",
    "    \n",
    "    price_by_k_and_b = [price(r, current_k, current_b) for r in X_rm]\n",
    "\n",
    "    current_loss = loss(y, price_by_k_and_b)\n",
    "    \n",
    "    if current_loss < min_loss: # performance became better\n",
    "        min_loss = current_loss\n",
    "        best_k, best_b = current_k, current_b\n",
    "        \n",
    "        next_direction = next_direction\n",
    "        print('When time is : {}, get best_k: {} best_b: {}, and the loss is: {}'.format(i, best_k, best_b, min_loss))\n",
    "    else:\n",
    "        next_direction = random.choice(direction)"
   ]
  },
  {
   "cell_type": "code",
   "execution_count": 15,
   "metadata": {},
   "outputs": [
    {
     "data": {
      "text/plain": [
       "<matplotlib.collections.PathCollection at 0x1a1f0476a0>"
      ]
     },
     "execution_count": 15,
     "metadata": {},
     "output_type": "execute_result"
    },
    {
     "data": {
      "image/png": "[encoded data removed]",
      "text/plain": [
       "<Figure size 432x288 with 1 Axes>"
      ]
     },
     "metadata": {
      "needs_background": "light"
     },
     "output_type": "display_data"
    }
   ],
   "source": [
    "X_rm = X[:, 5]\n",
    "k = 14.803868294952757\n",
    "b = -70.64667541994685\n",
    "price_by_random_k_and_b = [price(r, k, b) for r in X_rm]\n",
    "\n",
    "draw_rm_and_price()\n",
    "plt.scatter(X_rm, price_by_random_k_and_b)"
   ]
  },
  {
   "cell_type": "code",
   "execution_count": null,
   "metadata": {},
   "outputs": [],
   "source": []
  }
 ],
 "metadata": {
  "kernelspec": {
   "display_name": "Python 3",
   "language": "python",
   "name": "python3"
  },
  "language_info": {
   "codemirror_mode": {
    "name": "ipython",
    "version": 3
   },
   "file_extension": ".py",
   "mimetype": "text/x-python",
   "name": "python",
   "nbconvert_exporter": "python",
   "pygments_lexer": "ipython3",
   "version": "3.7.1"
  }
 },
 "nbformat": 4,
 "nbformat_minor": 2
}
